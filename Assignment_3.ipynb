{
  "nbformat": 4,
  "nbformat_minor": 0,
  "metadata": {
    "colab": {
      "name": "Assignment 3.ipynb",
      "provenance": [],
      "authorship_tag": "ABX9TyP21G6xVk/C+dq8hEKH+Rza",
      "include_colab_link": true
    },
    "kernelspec": {
      "name": "python3",
      "display_name": "Python 3"
    },
    "language_info": {
      "name": "python"
    }
  },
  "cells": [
    {
      "cell_type": "markdown",
      "metadata": {
        "id": "view-in-github",
        "colab_type": "text"
      },
      "source": [
        "<a href=\"https://colab.research.google.com/github/bhavbhavyaa/Assignment_3/blob/main/Assignment_3.ipynb\" target=\"_parent\"><img src=\"https://colab.research.google.com/assets/colab-badge.svg\" alt=\"Open In Colab\"/></a>"
      ]
    },
    {
      "cell_type": "code",
      "metadata": {
        "id": "TYQ2zjnZU7yB"
      },
      "source": [
        "def fibonnaci(n):\n",
        "  a1 = 1\n",
        "  a2 = 1\n",
        "  print(a1,a2,end = \" \")\n",
        "  for i in range(n+1):\n",
        "    a3 = a2 + a1\n",
        "    print(a3,end = \" \")\n",
        "    a1,a2 = a2,a3\n",
        "    "
      ],
      "execution_count": 1,
      "outputs": []
    },
    {
      "cell_type": "code",
      "metadata": {
        "id": "Ab1Dves0VCbP",
        "colab": {
          "base_uri": "https://localhost:8080/"
        },
        "outputId": "15324025-75f2-4e8f-b8c1-5ab899534fe4"
      },
      "source": [
        "n = int(input())\n",
        "fibonnaci(n)"
      ],
      "execution_count": 2,
      "outputs": [
        {
          "output_type": "stream",
          "text": [
            "5\n",
            "1 1 2 3 5 8 13 21 "
          ],
          "name": "stdout"
        }
      ]
    },
    {
      "cell_type": "code",
      "metadata": {
        "id": "_GpjlUl9ZBBf",
        "colab": {
          "base_uri": "https://localhost:8080/"
        },
        "outputId": "d9d845e7-1046-43aa-b2dd-f16d6ba6657d"
      },
      "source": [
        "x = int(input())\n",
        "y = int(input())\n",
        "if x<y:\n",
        "  smaller = x\n",
        "else:\n",
        "  smaller = y  \n",
        "for i in range(smaller,0,-1):\n",
        "  if abs(x-y)%i == 0:\n",
        "    print(\"GCD is\",i)\n",
        "    break"
      ],
      "execution_count": 3,
      "outputs": [
        {
          "output_type": "stream",
          "text": [
            "43\n",
            "57\n",
            "GCD is 14\n"
          ],
          "name": "stdout"
        }
      ]
    },
    {
      "cell_type": "code",
      "metadata": {
        "id": "iPSRoNN4ZHwY",
        "colab": {
          "base_uri": "https://localhost:8080/"
        },
        "outputId": "e4cf4d3a-b522-4781-fc5f-6b3c9bf98e3d"
      },
      "source": [
        "x = int(input())\n",
        "y = int(input())\n",
        "if x>y:\n",
        "  greater = x\n",
        "else:\n",
        "  greater = y\n",
        "for i in range(0,x*y+1,greater):\n",
        "  if i%x == 0 and i%y == 0 and i!=0:\n",
        "    print(\"LCM is\",i)\n",
        "    break   "
      ],
      "execution_count": 4,
      "outputs": [
        {
          "output_type": "stream",
          "text": [
            "56\n",
            "68\n",
            "LCM is 952\n"
          ],
          "name": "stdout"
        }
      ]
    },
    {
      "cell_type": "code",
      "metadata": {
        "id": "irqk0Bp_fshz"
      },
      "source": [
        ""
      ],
      "execution_count": 4,
      "outputs": []
    }
  ]
}